{
  "cells": [
    {
      "cell_type": "code",
      "source": [
        "#library to extract data from HTML, JSON, and XML documents\n",
        "#supports: CSS and XPath expressions for HTML and XML"
      ],
      "metadata": {
        "id": "KGvqZXlomPrU"
      },
      "execution_count": 406,
      "outputs": []
    },
    {
      "cell_type": "code",
      "source": [
        "pip install parsel"
      ],
      "metadata": {
        "colab": {
          "base_uri": "https://localhost:8080/"
        },
        "id": "uh7YjBkCyBRr",
        "outputId": "92b80698-b8cc-4ada-ef6b-3877bd061469"
      },
      "execution_count": 407,
      "outputs": [
        {
          "output_type": "stream",
          "name": "stdout",
          "text": [
            "Requirement already satisfied: parsel in /usr/local/lib/python3.10/dist-packages (1.8.1)\n",
            "Requirement already satisfied: cssselect>=0.9 in /usr/local/lib/python3.10/dist-packages (from parsel) (1.2.0)\n",
            "Requirement already satisfied: jmespath in /usr/local/lib/python3.10/dist-packages (from parsel) (1.0.1)\n",
            "Requirement already satisfied: lxml in /usr/local/lib/python3.10/dist-packages (from parsel) (4.9.3)\n",
            "Requirement already satisfied: packaging in /usr/local/lib/python3.10/dist-packages (from parsel) (23.1)\n",
            "Requirement already satisfied: w3lib>=1.19.0 in /usr/local/lib/python3.10/dist-packages (from parsel) (2.1.2)\n"
          ]
        }
      ]
    },
    {
      "cell_type": "code",
      "source": [
        "import requests\n",
        "from parsel import Selector\n",
        "from urllib.parse import urljoin\n",
        "import pandas as pd\n",
        "\n",
        "import warnings\n",
        "warnings.filterwarnings('ignore')"
      ],
      "metadata": {
        "id": "szp5sB0Kx5gI"
      },
      "execution_count": 426,
      "outputs": []
    },
    {
      "cell_type": "code",
      "source": [
        "URL = \"https://www.amazon.com/LYANER-Womens-Flounce-Sleeve-Blouse/product-reviews/B0BFRBM2MP/\"\n",
        "HEADERS = ({'User-Agent':\n",
        "            'Mozilla/5.0 (Windows NT 10.0; Win64; x64) \\\n",
        "            AppleWebKit/537.36 (KHTML, like Gecko) \\\n",
        "            Chrome/90.0.4430.212 Safari/537.36',\n",
        "            'Accept-Language': 'en-US, en;q=0.5'})\n",
        "\n",
        "webpage = requests.get(URL, headers=HEADERS)"
      ],
      "metadata": {
        "id": "VAo2YROJnBBx"
      },
      "execution_count": 409,
      "outputs": []
    },
    {
      "cell_type": "code",
      "source": [
        "# webpage.text"
      ],
      "metadata": {
        "id": "hsFKnfhdoiK4"
      },
      "execution_count": 474,
      "outputs": []
    },
    {
      "cell_type": "code",
      "source": [
        "def get_product_reviews(asin_and_urls,final_df):\n",
        "\n",
        "      for asin in asin_and_urls.keys():\n",
        "\n",
        "        # x=0\n",
        "        # reviews = []  ## temporaray list to store reviews for every asin\n",
        "        product_review_url = asin_and_urls[asin]\n",
        "        print(\"Reading review for \",asin)\n",
        "        try:\n",
        "            response = requests.get(product_review_url,headers=HEADERS)\n",
        "\n",
        "            if response.status_code == 200:\n",
        "\n",
        "                sel = Selector(text=response.text)\n",
        "\n",
        "                ## parse product Reviews\n",
        "                review_elements = sel.css(\"#cm_cr-review_list div.review\")\n",
        "\n",
        "                x = 0 ## iterator to limit the count of reviews\n",
        "                for review_element in review_elements:\n",
        "                    if x < 10:\n",
        "                      review = \"\".join(review_element.css(\"span[data-hook=review-body] ::text\").getall()).strip(),\n",
        "                      final_df = final_df.append({'ASIN':asin,\n",
        "                                        'REVIEWS':review,\n",
        "                                        },ignore_index=True)\n",
        "\n",
        "                      x = x + 1\n",
        "\n",
        "        except Exception as e:\n",
        "            print(\"Error\", e)\n",
        "\n",
        "      return final_df\n"
      ],
      "metadata": {
        "id": "KsEDbUpjxqGe"
      },
      "execution_count": 465,
      "outputs": []
    },
    {
      "cell_type": "code",
      "source": [
        "\n",
        "url1 = \"https://www.amazon.com/LYANER-Womens-Flounce-Sleeve-Blouse/product-reviews/B08HCN2D5F/\"\n",
        "url2 = \"https://www.amazon.com/Amazon-Essentials-Womens-Classic-Fit-Available/product-reviews/B0BFRBM2MP/\"\n",
        "url3 = \"https://www.amazon.com/Blouses-Dressy-Casual-Sleeve-Business/product-reviews/B0BY7SNN6T/\"\n",
        "url4 = \"https://www.amazon.com/LYANER-Womens-Collar-Ruched-Sleeve/product-reviews/B09NC15L1H/\"\n",
        "url5 = \"https://www.amazon.com/Made-Johnny-Womens-Dolman-Shirring/product-reviews/B00SCD49BS/\"\n",
        "url6 = \"https://www.amazon.com/LETSRUNWILD-Womens-T-Shirt-Blouses-Apricot-M/product-reviews/B083SFG4XG/\"\n",
        "url7 = \"https://www.amazon.com/LYANER-Womens-Elegant-Ruffle-Sleeve/product-reviews/B0B4DB7B6N/\"\n",
        "url8 = \"https://www.amazon.com/Allegra-Womens-Vintage-Sleeve-Ruffle/product-reviews/B08C7CSZ94/\"\n",
        "url9 = \"https://www.amazon.com/BTFBM-Womens-Crewneck-Chiffon-Blouses/product-reviews/B091TRVMD6/\"\n",
        "url10 = \"https://www.amazon.com/Made-Johnny-WT822-Womens-Sleeve/product-reviews/B00T5GLLZS/\""
      ],
      "metadata": {
        "id": "BQGGnmzaWuZu"
      },
      "execution_count": 466,
      "outputs": []
    },
    {
      "cell_type": "code",
      "source": [
        "asin_and_urls = {\n",
        "              'B08HCN2D5F':url1,\n",
        "              'B0BFRBM2MP':url2,\n",
        "              'B0BY7SNN6T':url3,\n",
        "              'B09NC15L1H':url4,\n",
        "              'B00SCD49BS':url5,\n",
        "              'B083SFG4XG':url6,\n",
        "              'B0B4DB7B6N':url7,\n",
        "              'B08C7CSZ94':url8,\n",
        "              'B091TRVMD6' :url9,\n",
        "              'B00T5GLLZS':url10,\n",
        "              }"
      ],
      "metadata": {
        "id": "jmYXf5IQmvuz"
      },
      "execution_count": 467,
      "outputs": []
    },
    {
      "cell_type": "code",
      "source": [
        "print(url1)"
      ],
      "metadata": {
        "colab": {
          "base_uri": "https://localhost:8080/"
        },
        "id": "vRQ1BjWdX9pi",
        "outputId": "35c10746-cbe9-4521-9dee-1344357d0717"
      },
      "execution_count": 468,
      "outputs": [
        {
          "output_type": "stream",
          "name": "stdout",
          "text": [
            "https://www.amazon.com/LYANER-Womens-Flounce-Sleeve-Blouse/product-reviews/B08HCN2D5F/\n"
          ]
        }
      ]
    },
    {
      "cell_type": "code",
      "source": [
        "final_df = pd.DataFrame(columns = ['ASIN','REVIEWS'])\n",
        "\n",
        "review_df = get_product_reviews(asin_and_urls,final_df)\n"
      ],
      "metadata": {
        "colab": {
          "base_uri": "https://localhost:8080/"
        },
        "id": "i9uPrYk3vrLC",
        "outputId": "5d94ee2e-03dc-4fb7-ad6b-f2f36ffabf15"
      },
      "execution_count": 469,
      "outputs": [
        {
          "output_type": "stream",
          "name": "stdout",
          "text": [
            "Reading review for  B08HCN2D5F\n",
            "Reading review for  B0BFRBM2MP\n",
            "Reading review for  B0BY7SNN6T\n",
            "Reading review for  B09NC15L1H\n",
            "Reading review for  B00SCD49BS\n",
            "Reading review for  B083SFG4XG\n",
            "Reading review for  B0B4DB7B6N\n",
            "Reading review for  B08C7CSZ94\n",
            "Reading review for  B091TRVMD6\n",
            "Reading review for  B00T5GLLZS\n"
          ]
        }
      ]
    },
    {
      "cell_type": "code",
      "source": [
        "review_df.head()"
      ],
      "metadata": {
        "colab": {
          "base_uri": "https://localhost:8080/",
          "height": 206
        },
        "id": "RaV14dlQzPWT",
        "outputId": "632cd80d-d798-478e-bcd0-80e9694769d5"
      },
      "execution_count": 470,
      "outputs": [
        {
          "output_type": "execute_result",
          "data": {
            "text/plain": [
              "         ASIN                                            REVIEWS\n",
              "0  B08HCN2D5F  (This shirt is great! The fabric is a little t...\n",
              "1  B08HCN2D5F  (Sleeves are long enough for this long-armed w...\n",
              "2  B08HCN2D5F  (I was happy with this color.  I looked everyw...\n",
              "3  B08HCN2D5F  (The shirt is soft silky material which I like...\n",
              "4  B08HCN2D5F  (The shirt is longer on my torso but I am smal..."
            ],
            "text/html": [
              "\n",
              "  <div id=\"df-5c695d67-93e1-4306-a6df-4e21767260b0\" class=\"colab-df-container\">\n",
              "    <div>\n",
              "<style scoped>\n",
              "    .dataframe tbody tr th:only-of-type {\n",
              "        vertical-align: middle;\n",
              "    }\n",
              "\n",
              "    .dataframe tbody tr th {\n",
              "        vertical-align: top;\n",
              "    }\n",
              "\n",
              "    .dataframe thead th {\n",
              "        text-align: right;\n",
              "    }\n",
              "</style>\n",
              "<table border=\"1\" class=\"dataframe\">\n",
              "  <thead>\n",
              "    <tr style=\"text-align: right;\">\n",
              "      <th></th>\n",
              "      <th>ASIN</th>\n",
              "      <th>REVIEWS</th>\n",
              "    </tr>\n",
              "  </thead>\n",
              "  <tbody>\n",
              "    <tr>\n",
              "      <th>0</th>\n",
              "      <td>B08HCN2D5F</td>\n",
              "      <td>(This shirt is great! The fabric is a little t...</td>\n",
              "    </tr>\n",
              "    <tr>\n",
              "      <th>1</th>\n",
              "      <td>B08HCN2D5F</td>\n",
              "      <td>(Sleeves are long enough for this long-armed w...</td>\n",
              "    </tr>\n",
              "    <tr>\n",
              "      <th>2</th>\n",
              "      <td>B08HCN2D5F</td>\n",
              "      <td>(I was happy with this color.  I looked everyw...</td>\n",
              "    </tr>\n",
              "    <tr>\n",
              "      <th>3</th>\n",
              "      <td>B08HCN2D5F</td>\n",
              "      <td>(The shirt is soft silky material which I like...</td>\n",
              "    </tr>\n",
              "    <tr>\n",
              "      <th>4</th>\n",
              "      <td>B08HCN2D5F</td>\n",
              "      <td>(The shirt is longer on my torso but I am smal...</td>\n",
              "    </tr>\n",
              "  </tbody>\n",
              "</table>\n",
              "</div>\n",
              "    <div class=\"colab-df-buttons\">\n",
              "\n",
              "  <div class=\"colab-df-container\">\n",
              "    <button class=\"colab-df-convert\" onclick=\"convertToInteractive('df-5c695d67-93e1-4306-a6df-4e21767260b0')\"\n",
              "            title=\"Convert this dataframe to an interactive table.\"\n",
              "            style=\"display:none;\">\n",
              "\n",
              "  <svg xmlns=\"http://www.w3.org/2000/svg\" height=\"24px\" viewBox=\"0 -960 960 960\">\n",
              "    <path d=\"M120-120v-720h720v720H120Zm60-500h600v-160H180v160Zm220 220h160v-160H400v160Zm0 220h160v-160H400v160ZM180-400h160v-160H180v160Zm440 0h160v-160H620v160ZM180-180h160v-160H180v160Zm440 0h160v-160H620v160Z\"/>\n",
              "  </svg>\n",
              "    </button>\n",
              "\n",
              "  <style>\n",
              "    .colab-df-container {\n",
              "      display:flex;\n",
              "      gap: 12px;\n",
              "    }\n",
              "\n",
              "    .colab-df-convert {\n",
              "      background-color: #E8F0FE;\n",
              "      border: none;\n",
              "      border-radius: 50%;\n",
              "      cursor: pointer;\n",
              "      display: none;\n",
              "      fill: #1967D2;\n",
              "      height: 32px;\n",
              "      padding: 0 0 0 0;\n",
              "      width: 32px;\n",
              "    }\n",
              "\n",
              "    .colab-df-convert:hover {\n",
              "      background-color: #E2EBFA;\n",
              "      box-shadow: 0px 1px 2px rgba(60, 64, 67, 0.3), 0px 1px 3px 1px rgba(60, 64, 67, 0.15);\n",
              "      fill: #174EA6;\n",
              "    }\n",
              "\n",
              "    .colab-df-buttons div {\n",
              "      margin-bottom: 4px;\n",
              "    }\n",
              "\n",
              "    [theme=dark] .colab-df-convert {\n",
              "      background-color: #3B4455;\n",
              "      fill: #D2E3FC;\n",
              "    }\n",
              "\n",
              "    [theme=dark] .colab-df-convert:hover {\n",
              "      background-color: #434B5C;\n",
              "      box-shadow: 0px 1px 3px 1px rgba(0, 0, 0, 0.15);\n",
              "      filter: drop-shadow(0px 1px 2px rgba(0, 0, 0, 0.3));\n",
              "      fill: #FFFFFF;\n",
              "    }\n",
              "  </style>\n",
              "\n",
              "    <script>\n",
              "      const buttonEl =\n",
              "        document.querySelector('#df-5c695d67-93e1-4306-a6df-4e21767260b0 button.colab-df-convert');\n",
              "      buttonEl.style.display =\n",
              "        google.colab.kernel.accessAllowed ? 'block' : 'none';\n",
              "\n",
              "      async function convertToInteractive(key) {\n",
              "        const element = document.querySelector('#df-5c695d67-93e1-4306-a6df-4e21767260b0');\n",
              "        const dataTable =\n",
              "          await google.colab.kernel.invokeFunction('convertToInteractive',\n",
              "                                                    [key], {});\n",
              "        if (!dataTable) return;\n",
              "\n",
              "        const docLinkHtml = 'Like what you see? Visit the ' +\n",
              "          '<a target=\"_blank\" href=https://colab.research.google.com/notebooks/data_table.ipynb>data table notebook</a>'\n",
              "          + ' to learn more about interactive tables.';\n",
              "        element.innerHTML = '';\n",
              "        dataTable['output_type'] = 'display_data';\n",
              "        await google.colab.output.renderOutput(dataTable, element);\n",
              "        const docLink = document.createElement('div');\n",
              "        docLink.innerHTML = docLinkHtml;\n",
              "        element.appendChild(docLink);\n",
              "      }\n",
              "    </script>\n",
              "  </div>\n",
              "\n",
              "\n",
              "<div id=\"df-283abb6b-f416-4191-a62c-6ed14f01039e\">\n",
              "  <button class=\"colab-df-quickchart\" onclick=\"quickchart('df-283abb6b-f416-4191-a62c-6ed14f01039e')\"\n",
              "            title=\"Suggest charts.\"\n",
              "            style=\"display:none;\">\n",
              "\n",
              "<svg xmlns=\"http://www.w3.org/2000/svg\" height=\"24px\"viewBox=\"0 0 24 24\"\n",
              "     width=\"24px\">\n",
              "    <g>\n",
              "        <path d=\"M19 3H5c-1.1 0-2 .9-2 2v14c0 1.1.9 2 2 2h14c1.1 0 2-.9 2-2V5c0-1.1-.9-2-2-2zM9 17H7v-7h2v7zm4 0h-2V7h2v10zm4 0h-2v-4h2v4z\"/>\n",
              "    </g>\n",
              "</svg>\n",
              "  </button>\n",
              "\n",
              "<style>\n",
              "  .colab-df-quickchart {\n",
              "    background-color: #E8F0FE;\n",
              "    border: none;\n",
              "    border-radius: 50%;\n",
              "    cursor: pointer;\n",
              "    display: none;\n",
              "    fill: #1967D2;\n",
              "    height: 32px;\n",
              "    padding: 0 0 0 0;\n",
              "    width: 32px;\n",
              "  }\n",
              "\n",
              "  .colab-df-quickchart:hover {\n",
              "    background-color: #E2EBFA;\n",
              "    box-shadow: 0px 1px 2px rgba(60, 64, 67, 0.3), 0px 1px 3px 1px rgba(60, 64, 67, 0.15);\n",
              "    fill: #174EA6;\n",
              "  }\n",
              "\n",
              "  [theme=dark] .colab-df-quickchart {\n",
              "    background-color: #3B4455;\n",
              "    fill: #D2E3FC;\n",
              "  }\n",
              "\n",
              "  [theme=dark] .colab-df-quickchart:hover {\n",
              "    background-color: #434B5C;\n",
              "    box-shadow: 0px 1px 3px 1px rgba(0, 0, 0, 0.15);\n",
              "    filter: drop-shadow(0px 1px 2px rgba(0, 0, 0, 0.3));\n",
              "    fill: #FFFFFF;\n",
              "  }\n",
              "</style>\n",
              "\n",
              "  <script>\n",
              "    async function quickchart(key) {\n",
              "      const charts = await google.colab.kernel.invokeFunction(\n",
              "          'suggestCharts', [key], {});\n",
              "    }\n",
              "    (() => {\n",
              "      let quickchartButtonEl =\n",
              "        document.querySelector('#df-283abb6b-f416-4191-a62c-6ed14f01039e button');\n",
              "      quickchartButtonEl.style.display =\n",
              "        google.colab.kernel.accessAllowed ? 'block' : 'none';\n",
              "    })();\n",
              "  </script>\n",
              "</div>\n",
              "    </div>\n",
              "  </div>\n"
            ]
          },
          "metadata": {},
          "execution_count": 470
        }
      ]
    },
    {
      "cell_type": "code",
      "source": [
        "review_df.ASIN.nunique()"
      ],
      "metadata": {
        "colab": {
          "base_uri": "https://localhost:8080/"
        },
        "id": "DnIbD2jbzpMm",
        "outputId": "c3b74992-f125-48ba-dbc3-6c56fdca19f4"
      },
      "execution_count": 472,
      "outputs": [
        {
          "output_type": "execute_result",
          "data": {
            "text/plain": [
              "10"
            ]
          },
          "metadata": {},
          "execution_count": 472
        }
      ]
    },
    {
      "cell_type": "code",
      "source": [
        "review_df.shape"
      ],
      "metadata": {
        "colab": {
          "base_uri": "https://localhost:8080/"
        },
        "id": "wJ5NtlerzmNg",
        "outputId": "d37af7df-5ecd-48dd-d615-1c824b2a0f7f"
      },
      "execution_count": 473,
      "outputs": [
        {
          "output_type": "execute_result",
          "data": {
            "text/plain": [
              "(100, 2)"
            ]
          },
          "metadata": {},
          "execution_count": 473
        }
      ]
    },
    {
      "cell_type": "code",
      "source": [],
      "metadata": {
        "id": "df6ovHT307WU"
      },
      "execution_count": null,
      "outputs": []
    },
    {
      "cell_type": "code",
      "source": [],
      "metadata": {
        "id": "T2mXdpCW07Y1"
      },
      "execution_count": null,
      "outputs": []
    },
    {
      "cell_type": "code",
      "source": [],
      "metadata": {
        "id": "IiOIKegl07bS"
      },
      "execution_count": null,
      "outputs": []
    },
    {
      "cell_type": "code",
      "source": [],
      "metadata": {
        "id": "wcc_RjzV07dn"
      },
      "execution_count": null,
      "outputs": []
    },
    {
      "cell_type": "code",
      "source": [],
      "metadata": {
        "id": "iCTnqCW707f3"
      },
      "execution_count": null,
      "outputs": []
    },
    {
      "cell_type": "code",
      "source": [],
      "metadata": {
        "id": "MZu6zMJw07nQ"
      },
      "execution_count": null,
      "outputs": []
    },
    {
      "cell_type": "code",
      "source": [],
      "metadata": {
        "id": "v6UkqIxy07qr"
      },
      "execution_count": null,
      "outputs": []
    },
    {
      "cell_type": "code",
      "source": [],
      "metadata": {
        "id": "5CtcxVv507uD"
      },
      "execution_count": null,
      "outputs": []
    },
    {
      "cell_type": "code",
      "source": [
        "\n",
        "# reviews = []\n",
        "\n",
        "\n",
        "\n",
        "# product_review_url_list = [url1]\n",
        "\n",
        "# for asin in asins_urls.keys():\n",
        "# # for url in product_review_url_list:\n",
        "#     # print(product_review_url)\n",
        "#     # product_review_url = url\n",
        "#     reviews = []\n",
        "#     product_review_url = asins_urls[asin]\n",
        "#     # print(product_review_url)\n",
        "#     try:\n",
        "#         response = requests.get(product_review_url,headers=HEADERS)\n",
        "#         # print(response)\n",
        "#         if response.status_code == 200:\n",
        "#             sel = Selector(text=response.text)\n",
        "\n",
        "#             ## Parse Product Reviews\n",
        "#             review_elements = sel.css(\"#cm_cr-review_list div.review\")\n",
        "#             # print(review_elements)\n",
        "#             x = 0\n",
        "#             for review_element in review_elements:\n",
        "#                 if x < 10:\n",
        "#                   review1 = \"\".join(review_element.css(\"span[data-hook=review-body] ::text\").getall()).strip(),\n",
        "#                   res = res.append({'ASIN':asin,\n",
        "#                                     'REVIEWS':review1,\n",
        "#                                     },ignore_index=True)\n",
        "#                   # res['ASIN'] = asin\n",
        "#                   # res['REVIEWS'] = review1\n",
        "#                   reviews.append({\n",
        "#                           \"text\": review1\n",
        "#                           # \"title\": review_element.css(\"*[data-hook=review-title]>span::text\").get(),\n",
        "#                           # \"location_and_date\": review_element.css(\"span[data-hook=review-date] ::text\").get(),\n",
        "#                           # \"verified\": bool(review_element.css(\"span[data-hook=avp-badge] ::text\").get()),\n",
        "#                           # \"rating\": review_element.css(\"*[data-hook*=review-star-rating] ::text\").re(r\"(\\d+\\.*\\d*) out\")[0],\n",
        "#                   })\n",
        "\n",
        "\n",
        "#                   x = x + 1\n",
        "#             # print(asin, reviews)\n",
        "#             dict1[asin] = reviews\n",
        "#     except Exception as e:\n",
        "#         print(\"Error\", e)"
      ],
      "metadata": {
        "id": "6BLneeIQmQOo"
      },
      "execution_count": null,
      "outputs": []
    },
    {
      "cell_type": "code",
      "source": [],
      "metadata": {
        "id": "mSlwyjRRkntQ"
      },
      "execution_count": null,
      "outputs": []
    }
  ],
  "metadata": {
    "colab": {
      "name": "Welcome To Colaboratory",
      "provenance": []
    },
    "kernelspec": {
      "display_name": "Python 3",
      "name": "python3"
    }
  },
  "nbformat": 4,
  "nbformat_minor": 0
}